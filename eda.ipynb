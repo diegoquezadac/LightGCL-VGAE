{
 "cells": [
  {
   "cell_type": "code",
   "execution_count": 1,
   "metadata": {},
   "outputs": [],
   "source": [
    "import numpy as np\n",
    "import pickle"
   ]
  },
  {
   "cell_type": "code",
   "execution_count": 2,
   "metadata": {},
   "outputs": [
    {
     "name": "stderr",
     "output_type": "stream",
     "text": [
      "/var/folders/dh/nb8jkk192m3bjg_sb3948jkh0000gn/T/ipykernel_27483/1571660929.py:3: DeprecationWarning: Please use `coo_matrix` from the `scipy.sparse` namespace, the `scipy.sparse.coo` namespace is deprecated.\n",
      "  train = pickle.load(f)\n",
      "/var/folders/dh/nb8jkk192m3bjg_sb3948jkh0000gn/T/ipykernel_27483/1571660929.py:6: DeprecationWarning: Please use `coo_matrix` from the `scipy.sparse` namespace, the `scipy.sparse.coo` namespace is deprecated.\n",
      "  test = pickle.load(f)\n"
     ]
    },
    {
     "name": "stdout",
     "output_type": "stream",
     "text": [
      "Data loaded.\n",
      "user_num: 29601 item_num: 24734 lambda_1: 0.2 lambda_2: 1e-07 temp: 0.2 q: 5\n"
     ]
    }
   ],
   "source": [
    "path = 'data/yelp/'\n",
    "f = open(path+'trnMat.pkl','rb')\n",
    "train = pickle.load(f)\n",
    "train_csr = (train!=0).astype(np.float32)\n",
    "f = open(path+'tstMat.pkl','rb')\n",
    "test = pickle.load(f)\n",
    "print('Data loaded.')\n",
    "\n",
    "print('user_num:',train.shape[0],'item_num:',train.shape[1],'lambda_1:',0.2,'lambda_2:',1e-7,'temp:',0.2,'q:',5)\n",
    "\n",
    "epoch_user = min(train.shape[0], 30000)\n",
    "\n",
    "# normalizing the adj matrix\n",
    "rowD = np.array(train.sum(1)).squeeze()\n",
    "colD = np.array(train.sum(0)).squeeze()\n",
    "for i in range(len(train.data)):\n",
    "    train.data[i] = train.data[i] / pow(rowD[train.row[i]]*colD[train.col[i]], 0.5)"
   ]
  },
  {
   "cell_type": "code",
   "execution_count": 3,
   "metadata": {},
   "outputs": [],
   "source": [
    "train_array = train.toarray()"
   ]
  },
  {
   "cell_type": "code",
   "execution_count": 4,
   "metadata": {},
   "outputs": [
    {
     "name": "stdout",
     "output_type": "stream",
     "text": [
      "Total entries: 732151134\n",
      "Non-zero entries: 1069128\n",
      "Density: 0.15%\n"
     ]
    }
   ],
   "source": [
    "total_entries = train_array.size\n",
    "nonzero_entries = np.count_nonzero(train_array)\n",
    "density = nonzero_entries / total_entries * 100\n",
    "\n",
    "print(f\"Total entries: {total_entries}\")\n",
    "print(f\"Non-zero entries: {nonzero_entries}\") \n",
    "print(f\"Density: {density:.2f}%\")"
   ]
  },
  {
   "cell_type": "code",
   "execution_count": null,
   "metadata": {},
   "outputs": [],
   "source": []
  }
 ],
 "metadata": {
  "kernelspec": {
   "display_name": ".venv",
   "language": "python",
   "name": "python3"
  },
  "language_info": {
   "codemirror_mode": {
    "name": "ipython",
    "version": 3
   },
   "file_extension": ".py",
   "mimetype": "text/x-python",
   "name": "python",
   "nbconvert_exporter": "python",
   "pygments_lexer": "ipython3",
   "version": "3.9.19"
  }
 },
 "nbformat": 4,
 "nbformat_minor": 2
}
